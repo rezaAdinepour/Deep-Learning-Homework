{
 "cells": [
  {
   "cell_type": "markdown",
   "metadata": {},
   "source": [
    "# [Deep Learning](https://github.com/M-Sc-AUT/M.Sc-Computer-Architecture/tree/main/Deep%20Learning) - Spring 2024\n",
    "#### [Reza Adinepour](https://github.com/rezaAdinepour)\n",
    "#### Stu.ID: 402131055"
   ]
  },
  {
   "cell_type": "markdown",
   "metadata": {},
   "source": [
    "## Part C:\n",
    "In this part we should create vector fitures as a polynomial matrix such as: \n",
    "$$ x_1x_2, x_1x^2_2, x^3_1x_2, ... $$\n",
    "\n",
    "and then train again network with this new fitures\n",
    "\n",
    "for create polynomial fitures i use $\\texttt{PolynomialFeatures}$ class from $\\texttt{sklearn}$ library\n",
    "\n",
    "Generate a new feature matrix consisting of all polynomial combinations\n",
    "of the feaxtures with degree less than or equal to the specified degree.\n",
    "For example, if an input sample is two dimensional and of the form\n",
    "$[a, b]$, the degree-2 polynomial features are $[1, a, b, a^2, ab, b^2]$.\n",
    "\n",
    "so for example, if we have $3\\times2$ matrix like bellow:\n",
    "\n",
    "$$\n",
    "       X=\\begin{bmatrix} \n",
    "              0 & 1 \\\\ \n",
    "              2 & 3 \\\\ \n",
    "              4 & 5 \n",
    "       \\end{bmatrix}\n",
    "$$\n",
    "\n",
    "after use this class for generate 2 dimention polynomial, in the output we have: \n",
    "\n",
    "$$\n",
    "       X_{new}=\\begin{bmatrix} \n",
    "              1 & 0 & 1 & 0 & 0 & 1\\\\\n",
    "              1 & 2 & 3 & 4 & 6 & 9\\\\ \n",
    "              1 & 4 & 5 & 16 & 20 & 25\\\\ \n",
    "       \\end{bmatrix}\n",
    "$$"
   ]
  },
  {
   "cell_type": "markdown",
   "metadata": {},
   "source": [
    "### import libraries"
   ]
  },
  {
   "cell_type": "code",
   "execution_count": 2,
   "metadata": {},
   "outputs": [],
   "source": [
    "import numpy as np\n",
    "import pandas as pd\n",
    "import matplotlib.pyplot as plt\n",
    "from sklearn.model_selection import train_test_split\n",
    "import torch\n",
    "from torch import nn, optim\n",
    "from sklearn.metrics import confusion_matrix\n",
    "import seaborn as sns\n",
    "from sklearn.metrics import f1_score\n",
    "\n",
    "\n",
    "%matplotlib inline"
   ]
  },
  {
   "cell_type": "markdown",
   "metadata": {},
   "source": [
    "### check GPU availability"
   ]
  },
  {
   "cell_type": "code",
   "execution_count": 3,
   "metadata": {},
   "outputs": [
    {
     "name": "stdout",
     "output_type": "stream",
     "text": [
      "cuda\n"
     ]
    }
   ],
   "source": [
    "device = torch.device(\"cuda\" if torch.cuda.is_available() else \"cpu\")\n",
    "print(device)"
   ]
  },
  {
   "cell_type": "markdown",
   "metadata": {},
   "source": [
    "### Read dataset and data visualization"
   ]
  },
  {
   "cell_type": "code",
   "execution_count": 4,
   "metadata": {},
   "outputs": [
    {
     "name": "stdout",
     "output_type": "stream",
     "text": [
      "shape of data frame is: (4500, 3)\n"
     ]
    },
    {
     "data": {
      "text/html": [
       "<div>\n",
       "<style scoped>\n",
       "    .dataframe tbody tr th:only-of-type {\n",
       "        vertical-align: middle;\n",
       "    }\n",
       "\n",
       "    .dataframe tbody tr th {\n",
       "        vertical-align: top;\n",
       "    }\n",
       "\n",
       "    .dataframe thead th {\n",
       "        text-align: right;\n",
       "    }\n",
       "</style>\n",
       "<table border=\"1\" class=\"dataframe\">\n",
       "  <thead>\n",
       "    <tr style=\"text-align: right;\">\n",
       "      <th></th>\n",
       "      <th>x</th>\n",
       "      <th>y</th>\n",
       "      <th>label</th>\n",
       "    </tr>\n",
       "  </thead>\n",
       "  <tbody>\n",
       "    <tr>\n",
       "      <th>0</th>\n",
       "      <td>4.780310</td>\n",
       "      <td>2.698320</td>\n",
       "      <td>0</td>\n",
       "    </tr>\n",
       "    <tr>\n",
       "      <th>1</th>\n",
       "      <td>-2.273710</td>\n",
       "      <td>5.750180</td>\n",
       "      <td>0</td>\n",
       "    </tr>\n",
       "    <tr>\n",
       "      <th>2</th>\n",
       "      <td>-4.817170</td>\n",
       "      <td>-2.209610</td>\n",
       "      <td>0</td>\n",
       "    </tr>\n",
       "    <tr>\n",
       "      <th>3</th>\n",
       "      <td>-9.526940</td>\n",
       "      <td>0.659360</td>\n",
       "      <td>0</td>\n",
       "    </tr>\n",
       "    <tr>\n",
       "      <th>4</th>\n",
       "      <td>1.864400</td>\n",
       "      <td>-5.019510</td>\n",
       "      <td>0</td>\n",
       "    </tr>\n",
       "    <tr>\n",
       "      <th>...</th>\n",
       "      <td>...</td>\n",
       "      <td>...</td>\n",
       "      <td>...</td>\n",
       "    </tr>\n",
       "    <tr>\n",
       "      <th>4495</th>\n",
       "      <td>-4.327500</td>\n",
       "      <td>-0.210256</td>\n",
       "      <td>1</td>\n",
       "    </tr>\n",
       "    <tr>\n",
       "      <th>4496</th>\n",
       "      <td>-1.077300</td>\n",
       "      <td>1.279540</td>\n",
       "      <td>1</td>\n",
       "    </tr>\n",
       "    <tr>\n",
       "      <th>4497</th>\n",
       "      <td>-2.377350</td>\n",
       "      <td>-3.078130</td>\n",
       "      <td>1</td>\n",
       "    </tr>\n",
       "    <tr>\n",
       "      <th>4498</th>\n",
       "      <td>0.508152</td>\n",
       "      <td>0.432983</td>\n",
       "      <td>1</td>\n",
       "    </tr>\n",
       "    <tr>\n",
       "      <th>4499</th>\n",
       "      <td>-0.641549</td>\n",
       "      <td>-1.355710</td>\n",
       "      <td>1</td>\n",
       "    </tr>\n",
       "  </tbody>\n",
       "</table>\n",
       "<p>4500 rows × 3 columns</p>\n",
       "</div>"
      ],
      "text/plain": [
       "             x         y  label\n",
       "0     4.780310  2.698320      0\n",
       "1    -2.273710  5.750180      0\n",
       "2    -4.817170 -2.209610      0\n",
       "3    -9.526940  0.659360      0\n",
       "4     1.864400 -5.019510      0\n",
       "...        ...       ...    ...\n",
       "4495 -4.327500 -0.210256      1\n",
       "4496 -1.077300  1.279540      1\n",
       "4497 -2.377350 -3.078130      1\n",
       "4498  0.508152  0.432983      1\n",
       "4499 -0.641549 -1.355710      1\n",
       "\n",
       "[4500 rows x 3 columns]"
      ]
     },
     "execution_count": 4,
     "metadata": {},
     "output_type": "execute_result"
    }
   ],
   "source": [
    "# read dataset from .txt file and remove first 8 row and set new header with this name: x, y, label\n",
    "df = pd.read_csv(\"data.txt\", skiprows=8, header=None, names=['x', 'y', 'label'])\n",
    "\n",
    "# split dataset into the inputs x and the outputs y (labels)\n",
    "X = df[['x', 'y']]\n",
    "y = df['label']\n",
    "\n",
    "print(\"shape of data frame is:\", df.shape)\n",
    "df"
   ]
  },
  {
   "cell_type": "markdown",
   "metadata": {},
   "source": [
    "### Convert data to PyTorch tensor and make polynomial fitures"
   ]
  }
 ],
 "metadata": {
  "kernelspec": {
   "display_name": "Python 3",
   "language": "python",
   "name": "python3"
  },
  "language_info": {
   "codemirror_mode": {
    "name": "ipython",
    "version": 3
   },
   "file_extension": ".py",
   "mimetype": "text/x-python",
   "name": "python",
   "nbconvert_exporter": "python",
   "pygments_lexer": "ipython3",
   "version": "3.11.6"
  }
 },
 "nbformat": 4,
 "nbformat_minor": 2
}
