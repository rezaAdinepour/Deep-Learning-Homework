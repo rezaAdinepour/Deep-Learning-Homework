{
 "cells": [
  {
   "cell_type": "markdown",
   "metadata": {},
   "source": [
    "# [Deep Learning](https://github.com/M-Sc-AUT/M.Sc-Computer-Architecture/tree/main/Deep%20Learning) - Spring 2024\n",
    "#### [Reza Adinepour](https://github.com/rezaAdinepour)\n",
    "#### Stu.ID: 402131055"
   ]
  },
  {
   "cell_type": "markdown",
   "metadata": {},
   "source": [
    "## Question 3 Part B:\n",
    "In this question we will aproximate polynomial function with taylor series.\n",
    "\n",
    "We know, we can approximate all function with this series:\n",
    "\n",
    "$$\n",
    "    \\sum_{n=0}^{\\infty} \\frac{f^{(n)}(a)}{n!}(x-a)^n=f(a)+\\frac{f'(a)}{1!}(x-a)+\\frac{f''(a)}{2!}(x-a)^2+\\frac{f'''(a)}{3!}(x-a)^3+...+\\frac{f^{(n)}(a)}{n!}(x-a)^n\n",
    "$$\n",
    "\n",
    "this series will be called Maclaurin series. A Taylor series is called a Maclaurin series when $a = 0$ so the Taylor series can be define ad bellow:\n",
    "\n",
    "$$\n",
    "    \\sum_{n=0}^{\\infty} \\frac{f^{(n)}(0)}{n!}(x)^n=f(0)+\\frac{f'(0)}{1!}(x)+\\frac{f''(0)}{2!}(x)^2+\\frac{f'''(0)}{3!}(x)^3+...+\\frac{f^{(n)}(0)}{n!}(x)^n\n",
    "$$\n",
    "\n",
    "The main function i want approximate with Taylor series is:\n",
    "$$ f(x)=sin(x)+3x^{17}-5x^2 $$\n",
    "\n",
    "we approximate this function as bellow:\n",
    "\n",
    "$$ \\hat{f}(x)=x-5x^2-\\frac{1}{6}x^3+\\frac{1}{120}x^5-\\frac{1}{5040}x^7+\\frac{1}{362880}x^9+3x^{17} $$"
   ]
  },
  {
   "cell_type": "markdown",
   "metadata": {},
   "source": [
    "### import libraries"
   ]
  },
  {
   "cell_type": "code",
   "execution_count": 2,
   "metadata": {},
   "outputs": [],
   "source": [
    "import torch\n",
    "import numpy as np\n",
    "import matplotlib.pyplot as plt"
   ]
  },
  {
   "cell_type": "markdown",
   "metadata": {},
   "source": [
    "### check GPU availability"
   ]
  },
  {
   "cell_type": "code",
   "execution_count": 3,
   "metadata": {},
   "outputs": [
    {
     "name": "stdout",
     "output_type": "stream",
     "text": [
      "cuda\n"
     ]
    }
   ],
   "source": [
    "device = torch.device(\"cuda\" if torch.cuda.is_available() else \"cpu\")\n",
    "print(device)"
   ]
  },
  {
   "cell_type": "markdown",
   "metadata": {},
   "source": [
    "### create x points"
   ]
  },
  {
   "cell_type": "code",
   "execution_count": 6,
   "metadata": {},
   "outputs": [
    {
     "name": "stdout",
     "output_type": "stream",
     "text": [
      "torch.Size([1000])\n"
     ]
    }
   ],
   "source": [
    "x = torch.linspace(-10, 10, 1000, device=device)\n",
    "print(x.size())"
   ]
  },
  {
   "cell_type": "markdown",
   "metadata": {},
   "source": [
    "### calculate $f(x)=p_1(x)+p_2(x)+p_3(x)$\n",
    "\n",
    "* $p_1(x)=sin(x)=x-\\frac{1}{6}x^3+\\frac{1}{120}x^5-\\frac{1}{5040}x^7+\\frac{1}{362880}x^9$\n",
    "* $p_2(x)=3x^{17}$\n",
    "* $p_3(x)=-5x^2$"
   ]
  },
  {
   "cell_type": "code",
   "execution_count": 8,
   "metadata": {},
   "outputs": [],
   "source": [
    "p1 = x - ((1/6) * torch.pow(x, 3)) + ((1/120) * torch.pow(x, 5)) - ((1/5040) * torch.pow(x, 7)) + ((1/362880) * torch.pow(x, 9))\n",
    "p2 = 3 * torch.pow(x, 17)\n",
    "p3 = -5 * torch.pow(x, 2)\n",
    "\n",
    "f_org = p1 + p2 + p3"
   ]
  },
  {
   "cell_type": "markdown",
   "metadata": {},
   "source": [
    "### plot functions"
   ]
  },
  {
   "cell_type": "code",
   "execution_count": null,
   "metadata": {},
   "outputs": [],
   "source": [
    "plt.figure(figsize=(20, 7))"
   ]
  }
 ],
 "metadata": {
  "kernelspec": {
   "display_name": "Python 3",
   "language": "python",
   "name": "python3"
  },
  "language_info": {
   "codemirror_mode": {
    "name": "ipython",
    "version": 3
   },
   "file_extension": ".py",
   "mimetype": "text/x-python",
   "name": "python",
   "nbconvert_exporter": "python",
   "pygments_lexer": "ipython3",
   "version": "3.11.6"
  }
 },
 "nbformat": 4,
 "nbformat_minor": 2
}
