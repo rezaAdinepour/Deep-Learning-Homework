{
 "cells": [
  {
   "cell_type": "markdown",
   "metadata": {},
   "source": [
    "# [Deep Learning](https://github.com/M-Sc-AUT/M.Sc-Computer-Architecture/tree/main/Deep%20Learning) - Spring 2024\n",
    "#### [Reza Adinepour](https://github.com/rezaAdinepour)\n",
    "#### Stu.ID: 402131055"
   ]
  },
  {
   "cell_type": "markdown",
   "metadata": {},
   "source": [
    "## Question 3:\n",
    "\n",
    "download CFAR10 dataset here: [github.com/YoongiKim/CIFAR-10-images.git](https://github.com/YoongiKim/CIFAR-10-images.git)"
   ]
  }
 ],
 "metadata": {
  "language_info": {
   "name": "python"
  }
 },
 "nbformat": 4,
 "nbformat_minor": 2
}
