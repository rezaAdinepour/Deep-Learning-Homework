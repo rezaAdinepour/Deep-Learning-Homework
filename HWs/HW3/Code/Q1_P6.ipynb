{
 "cells": [
  {
   "cell_type": "markdown",
   "metadata": {},
   "source": [
    "# [Deep Learning](https://github.com/M-Sc-AUT/M.Sc-Computer-Architecture/tree/main/Deep%20Learning) - Spring 2024\n",
    "#### [Reza Adinepour](https://github.com/rezaAdinepour)\n",
    "#### Stu.ID: 402131055"
   ]
  },
  {
   "cell_type": "markdown",
   "metadata": {},
   "source": [
    "## Question 1 - Part 6:\n",
    "\n",
    "In this part, we will apply some of NLP techniques on a dataset containing Wikipedia texts ($\\texttt{WikipediaEvents.csv}$ file). The primary goal of this part is to demonstrate how various NLP techniques can be effectively utilized in data science to process and analyze textual data.\n"
   ]
  },
  {
   "cell_type": "markdown",
   "metadata": {},
   "source": [
    "### Import libraries"
   ]
  },
  {
   "cell_type": "code",
   "execution_count": 69,
   "metadata": {},
   "outputs": [],
   "source": [
    "from warnings import filterwarnings\n",
    "import matplotlib.pyplot as plt\n",
    "import numpy as np\n",
    "import pandas as pd\n",
    "import nltk\n",
    "from nltk.corpus import stopwords\n",
    "from textblob import TextBlob\n",
    "from gensim.scripts.glove2word2vec import glove2word2vec\n",
    "from gensim.models import KeyedVectors\n",
    "from sklearn.manifold import TSNE\n",
    "from minisom import MiniSom"
   ]
  },
  {
   "cell_type": "markdown",
   "metadata": {},
   "source": [
    "### Adjusting row column settings"
   ]
  },
  {
   "cell_type": "code",
   "execution_count": 2,
   "metadata": {},
   "outputs": [],
   "source": [
    "filterwarnings('ignore')\n",
    "pd.set_option('display.max_columns', None)\n",
    "pd.set_option('display.width', 200)\n",
    "pd.set_option('display.float_format', lambda x: '%.2f' % x)"
   ]
  },
  {
   "cell_type": "markdown",
   "metadata": {},
   "source": [
    "### Loading dataset"
   ]
  },
  {
   "cell_type": "code",
   "execution_count": 3,
   "metadata": {},
   "outputs": [
    {
     "name": "stdout",
     "output_type": "stream",
     "text": [
      "shape of dataset: (473, 1)\n"
     ]
    },
    {
     "data": {
      "text/html": [
       "<div>\n",
       "<style scoped>\n",
       "    .dataframe tbody tr th:only-of-type {\n",
       "        vertical-align: middle;\n",
       "    }\n",
       "\n",
       "    .dataframe tbody tr th {\n",
       "        vertical-align: top;\n",
       "    }\n",
       "\n",
       "    .dataframe thead th {\n",
       "        text-align: right;\n",
       "    }\n",
       "</style>\n",
       "<table border=\"1\" class=\"dataframe\">\n",
       "  <thead>\n",
       "    <tr style=\"text-align: right;\">\n",
       "      <th></th>\n",
       "      <th>text</th>\n",
       "    </tr>\n",
       "  </thead>\n",
       "  <tbody>\n",
       "    <tr>\n",
       "      <th>0</th>\n",
       "      <td>January 1, 2022 – The Regional Comprehensive E...</td>\n",
       "    </tr>\n",
       "    <tr>\n",
       "      <th>1</th>\n",
       "      <td>January 2, 2022 – Abdalla Hamdok resigns as Pr...</td>\n",
       "    </tr>\n",
       "    <tr>\n",
       "      <th>2</th>\n",
       "      <td>January 4, 2022 – The five permanent members o...</td>\n",
       "    </tr>\n",
       "    <tr>\n",
       "      <th>3</th>\n",
       "      <td>January 5, 2022 – A nationwide state of emerge...</td>\n",
       "    </tr>\n",
       "    <tr>\n",
       "      <th>4</th>\n",
       "      <td>January 6, 2022 – The CSTO deploys a \"peacekee...</td>\n",
       "    </tr>\n",
       "  </tbody>\n",
       "</table>\n",
       "</div>"
      ],
      "text/plain": [
       "                                                text\n",
       "0  January 1, 2022 – The Regional Comprehensive E...\n",
       "1  January 2, 2022 – Abdalla Hamdok resigns as Pr...\n",
       "2  January 4, 2022 – The five permanent members o...\n",
       "3  January 5, 2022 – A nationwide state of emerge...\n",
       "4  January 6, 2022 – The CSTO deploys a \"peacekee..."
      ]
     },
     "execution_count": 3,
     "metadata": {},
     "output_type": "execute_result"
    }
   ],
   "source": [
    "df = pd.read_csv(\"WikipediaEvents.csv\", index_col=0)\n",
    "print(\"shape of dataset: {}\" .format(df.shape))\n",
    "df.head()"
   ]
  },
  {
   "cell_type": "markdown",
   "metadata": {},
   "source": [
    "## Text preprocessing"
   ]
  },
  {
   "cell_type": "code",
   "execution_count": 4,
   "metadata": {},
   "outputs": [
    {
     "data": {
      "text/plain": [
       "0      January 1, 2022 – The Regional Comprehensive E...\n",
       "1      January 2, 2022 – Abdalla Hamdok resigns as Pr...\n",
       "2      January 4, 2022 – The five permanent members o...\n",
       "3      January 5, 2022 – A nationwide state of emerge...\n",
       "4      January 6, 2022 – The CSTO deploys a \"peacekee...\n",
       "                             ...                        \n",
       "468    October, 2024 – 2024 Georgian presidential ele...\n",
       "469     November, 2024 – 2024 Namibian general election.\n",
       "470    November, 2024 – 2024 Romanian presidential el...\n",
       "471    November, 2024 – Lee Hsien Loong, Prime Minist...\n",
       "472    December, 2024 – 2024 Croatian presidential el...\n",
       "Name: text, Length: 473, dtype: object"
      ]
     },
     "execution_count": 4,
     "metadata": {},
     "output_type": "execute_result"
    }
   ],
   "source": [
    "df[\"text\"]"
   ]
  },
  {
   "cell_type": "markdown",
   "metadata": {},
   "source": [
    "### 1. Lowercases, Punctuation, Numbers and Newline Characters\n",
    "\n",
    "This function performs several cleaning operations on text data:\n",
    "- Lowercases the text (Case Folding)\n",
    "- Removes punctuation\n",
    "- Removes numbers\n",
    "- Removes newline characters\n",
    "\n",
    "Parameters:\n",
    "- text: A pandas Series containing text data.\n",
    "\n",
    "Returns:\n",
    "- Series: A pandas Series with cleaned text."
   ]
  },
  {
   "cell_type": "code",
   "execution_count": 5,
   "metadata": {},
   "outputs": [],
   "source": [
    "def clean_text(text):\n",
    "    # lowercasing (Case Folding)\n",
    "    text = text.str.lower()\n",
    "    # removing punctuations, numbers, and newline characters\n",
    "    text = text.str.replace(r'[^\\w\\s]', '', regex=True)\n",
    "    text = text.str.replace(\"\\n\", '', regex=True)\n",
    "    text = text.str.replace('\\d', '', regex=True)\n",
    "    return text"
   ]
  },
  {
   "cell_type": "code",
   "execution_count": 6,
   "metadata": {},
   "outputs": [
    {
     "data": {
      "text/plain": [
       "0      january    the regional comprehensive economic...\n",
       "1      january    abdalla hamdok resigns as prime min...\n",
       "2      january    the five permanent members of the u...\n",
       "3      january    a nationwide state of emergency is ...\n",
       "4      january    the csto deploys a peacekeeping mis...\n",
       "                             ...                        \n",
       "468            october    georgian presidential election\n",
       "469                november    namibian general election\n",
       "470           november    romanian presidential election\n",
       "471    november   lee hsien loong prime minister of s...\n",
       "472           december    croatian presidential election\n",
       "Name: text, Length: 473, dtype: object"
      ]
     },
     "execution_count": 6,
     "metadata": {},
     "output_type": "execute_result"
    }
   ],
   "source": [
    "df[\"text\"] = clean_text(df[\"text\"])\n",
    "df[\"text\"]"
   ]
  },
  {
   "cell_type": "markdown",
   "metadata": {},
   "source": [
    "### 2. Stopwords Removal\n",
    "This function filters out common stopwords from the text data. \n",
    "Stopwords are removed based on the NLTK's English stopwords list.\n",
    "\n",
    "Parameters:\n",
    "- text: A pandas Series containing text data.\n",
    "\n",
    "Returns:\n",
    "- Series: A pandas Series with stopwords removed from the text."
   ]
  },
  {
   "cell_type": "code",
   "execution_count": 7,
   "metadata": {},
   "outputs": [
    {
     "name": "stderr",
     "output_type": "stream",
     "text": [
      "[nltk_data] Downloading package stopwords to /home/reza/nltk_data...\n",
      "[nltk_data]   Package stopwords is already up-to-date!\n"
     ]
    }
   ],
   "source": [
    "nltk.download(\"stopwords\")\n",
    "stop_words = stopwords.words(\"english\")"
   ]
  },
  {
   "cell_type": "code",
   "execution_count": 8,
   "metadata": {},
   "outputs": [
    {
     "name": "stdout",
     "output_type": "stream",
     "text": [
      "['i', 'me', 'my', 'myself', 'we', 'our', 'ours', 'ourselves', 'you', \"you're\", \"you've\", \"you'll\", \"you'd\", 'your', 'yours', 'yourself', 'yourselves', 'he', 'him', 'his', 'himself', 'she', \"she's\", 'her', 'hers', 'herself', 'it', \"it's\", 'its', 'itself', 'they', 'them', 'their', 'theirs', 'themselves', 'what', 'which', 'who', 'whom', 'this', 'that', \"that'll\", 'these', 'those', 'am', 'is', 'are', 'was', 'were', 'be', 'been', 'being', 'have', 'has', 'had', 'having', 'do', 'does', 'did', 'doing', 'a', 'an', 'the', 'and', 'but', 'if', 'or', 'because', 'as', 'until', 'while', 'of', 'at', 'by', 'for', 'with', 'about', 'against', 'between', 'into', 'through', 'during', 'before', 'after', 'above', 'below', 'to', 'from', 'up', 'down', 'in', 'out', 'on', 'off', 'over', 'under', 'again', 'further', 'then', 'once', 'here', 'there', 'when', 'where', 'why', 'how', 'all', 'any', 'both', 'each', 'few', 'more', 'most', 'other', 'some', 'such', 'no', 'nor', 'not', 'only', 'own', 'same', 'so', 'than', 'too', 'very', 's', 't', 'can', 'will', 'just', 'don', \"don't\", 'should', \"should've\", 'now', 'd', 'll', 'm', 'o', 're', 've', 'y', 'ain', 'aren', \"aren't\", 'couldn', \"couldn't\", 'didn', \"didn't\", 'doesn', \"doesn't\", 'hadn', \"hadn't\", 'hasn', \"hasn't\", 'haven', \"haven't\", 'isn', \"isn't\", 'ma', 'mightn', \"mightn't\", 'mustn', \"mustn't\", 'needn', \"needn't\", 'shan', \"shan't\", 'shouldn', \"shouldn't\", 'wasn', \"wasn't\", 'weren', \"weren't\", 'won', \"won't\", 'wouldn', \"wouldn't\"]\n"
     ]
    }
   ],
   "source": [
    "print(stop_words)"
   ]
  },
  {
   "cell_type": "code",
   "execution_count": 9,
   "metadata": {},
   "outputs": [],
   "source": [
    "def remove_stopwords(text):\n",
    "    text = text.apply(lambda x: \" \".join(word for word in str(x).split() if word not in stop_words))\n",
    "    return text"
   ]
  },
  {
   "cell_type": "code",
   "execution_count": 10,
   "metadata": {},
   "outputs": [
    {
     "data": {
      "text/plain": [
       "0      january regional comprehensive economic partne...\n",
       "1      january abdalla hamdok resigns prime minister ...\n",
       "2      january five permanent members un security cou...\n",
       "3      january nationwide state emergency declared ka...\n",
       "4      january csto deploys peacekeeping mission kaza...\n",
       "                             ...                        \n",
       "468               october georgian presidential election\n",
       "469                   november namibian general election\n",
       "470              november romanian presidential election\n",
       "471    november lee hsien loong prime minister singap...\n",
       "472              december croatian presidential election\n",
       "Name: text, Length: 473, dtype: object"
      ]
     },
     "execution_count": 10,
     "metadata": {},
     "output_type": "execute_result"
    }
   ],
   "source": [
    "df[\"text\"] = remove_stopwords(df[\"text\"])\n",
    "df[\"text\"]"
   ]
  },
  {
   "cell_type": "markdown",
   "metadata": {},
   "source": [
    "### 3. Tokenization"
   ]
  },
  {
   "cell_type": "code",
   "execution_count": 10,
   "metadata": {},
   "outputs": [
    {
     "name": "stderr",
     "output_type": "stream",
     "text": [
      "[nltk_data] Downloading package punkt to /home/reza/nltk_data...\n",
      "[nltk_data]   Package punkt is already up-to-date!\n"
     ]
    },
    {
     "data": {
      "text/plain": [
       "0      [january, the, regional, comprehensive, econom...\n",
       "1      [january, abdalla, hamdok, resigns, as, prime,...\n",
       "2      [january, the, five, permanent, members, of, t...\n",
       "3      [january, a, nationwide, state, of, emergency,...\n",
       "4      [january, the, csto, deploys, a, peacekeeping,...\n",
       "                             ...                        \n",
       "468          [october, georgian, presidential, election]\n",
       "469              [november, namibian, general, election]\n",
       "470         [november, romanian, presidential, election]\n",
       "471    [november, lee, hsien, loong, prime, minister,...\n",
       "472         [december, croatian, presidential, election]\n",
       "Name: text, Length: 473, dtype: object"
      ]
     },
     "execution_count": 10,
     "metadata": {},
     "output_type": "execute_result"
    }
   ],
   "source": [
    "nltk.download('punkt')\n",
    "df[\"text\"].apply(lambda x: TextBlob(x).words)"
   ]
  },
  {
   "cell_type": "markdown",
   "metadata": {},
   "source": [
    "### 4. Word to vector embeddings using GloVe pretrained model\n",
    "\n",
    "This function converts each word in the text to its corresponding vector representation\n",
    "using a pre-trained GloVe model. If a word is not in the model's vocabulary, it is ignored.\n",
    "\n",
    "Parameters:\n",
    "- text: The text to convert.\n",
    "\n",
    "Returns:\n",
    "- list: A list of vectors representing the words in the text.\n"
   ]
  },
  {
   "cell_type": "code",
   "execution_count": 11,
   "metadata": {},
   "outputs": [],
   "source": [
    "# load glove pretrained model\n",
    "PATH_in = \"/mnt/9636D17436D15639/University/CE/Deep Learning/Dr Safabakhsh/Spring 2024/Dataset/glove.6B.100d.txt\"\n",
    "PATH_out = \"/mnt/9636D17436D15639/University/CE/Deep Learning/Dr Safabakhsh/Spring 2024/Dataset/glove.word2vec.txt\"\n",
    "\n",
    "glove2word2vec(PATH_in, PATH_out)\n",
    "\n",
    "glove_model = KeyedVectors.load_word2vec_format(PATH_out, binary=False)"
   ]
  },
  {
   "cell_type": "code",
   "execution_count": 12,
   "metadata": {},
   "outputs": [
    {
     "name": "stdout",
     "output_type": "stream",
     "text": [
      "KeyedVectors<vector_size=100, 400000 keys>\n"
     ]
    }
   ],
   "source": [
    "print(glove_model)"
   ]
  },
  {
   "cell_type": "code",
   "execution_count": 13,
   "metadata": {},
   "outputs": [],
   "source": [
    "def convert_to_vector(text):\n",
    "    return [glove_model[word] for word in text.split() if word in glove_model]"
   ]
  },
  {
   "cell_type": "code",
   "execution_count": 14,
   "metadata": {},
   "outputs": [
    {
     "data": {
      "text/plain": [
       "0      [[0.39596, -0.73958, -0.33831, -0.10208, 0.354...\n",
       "1      [[0.39596, -0.73958, -0.33831, -0.10208, 0.354...\n",
       "2      [[0.39596, -0.73958, -0.33831, -0.10208, 0.354...\n",
       "3      [[0.39596, -0.73958, -0.33831, -0.10208, 0.354...\n",
       "4      [[0.39596, -0.73958, -0.33831, -0.10208, 0.354...\n",
       "                             ...                        \n",
       "468    [[0.41278, -0.76503, -0.28583, -0.04694, 0.315...\n",
       "469    [[0.27465, -0.67486, -0.21946, -0.13671, 0.456...\n",
       "470    [[0.27465, -0.67486, -0.21946, -0.13671, 0.456...\n",
       "471    [[0.27465, -0.67486, -0.21946, -0.13671, 0.456...\n",
       "472    [[0.48232, -0.76519, -0.30619, -0.027161, 0.25...\n",
       "Name: vectors, Length: 473, dtype: object"
      ]
     },
     "execution_count": 14,
     "metadata": {},
     "output_type": "execute_result"
    }
   ],
   "source": [
    "df[\"vectors\"] = df['text'].apply(convert_to_vector)\n",
    "df.to_csv(\"word2vec_out.csv\", index=False)\n",
    "df[\"vectors\"]"
   ]
  },
  {
   "cell_type": "code",
   "execution_count": 15,
   "metadata": {},
   "outputs": [
    {
     "name": "stdout",
     "output_type": "stream",
     "text": [
      "(473, 2)\n"
     ]
    }
   ],
   "source": [
    "data = df.values\n",
    "print(data.shape)\n",
    "# data"
   ]
  },
  {
   "cell_type": "markdown",
   "metadata": {},
   "source": [
    "### Visualize vector representation"
   ]
  },
  {
   "cell_type": "code",
   "execution_count": 44,
   "metadata": {},
   "outputs": [],
   "source": [
    "# extract the word vectors and their corresponding words\n",
    "words = []\n",
    "vectors = []\n",
    "for _, row in df.iterrows():\n",
    "    for word, vector in zip(row[\"text\"].split(), row[\"vectors\"]):\n",
    "        words.append(word)\n",
    "        vectors.append(vector)\n",
    "\n",
    "# use t-SNE to reduce the dimension of the vectors to 2D\n",
    "vectors = np.array(vectors)\n",
    "tsne = TSNE(n_components=2, random_state=0)\n",
    "vectors_2d = tsne.fit_transform(vectors)\n",
    "\n",
    "# vrctors_2d = vectors.reshape(-1, 2)\n",
    "\n"
   ]
  },
  {
   "cell_type": "code",
   "execution_count": 45,
   "metadata": {},
   "outputs": [
    {
     "name": "stdout",
     "output_type": "stream",
     "text": [
      "['Who', 'won', 'the', '2022', 'soccer', 'world', 'cup', '?']\n",
      "['When', 'did', 'Sweden', 'join', 'NATO', '?']\n",
      "['Who', 'joined', 'NATO', 'in', '2023', '?']\n",
      "['Who', 'joined', 'NATO', 'in', '2024', '?']\n",
      "['Which', 'is', 'the', '31st', 'member', 'of', 'NATO', '?']\n",
      "['Which', 'is', 'the', '32nd', 'member', 'of', 'NATO', '?']\n",
      "['Who', 'won', 'the', 'Cricket', 'World', 'Cup', 'in', '2023', '?']\n",
      "['Who', 'defeated', 'India', 'in', 'Cricket', 'World', 'Cup', 'final', 'in', '2023', '?']\n",
      "['Name', 'the', 'former', 'prime', 'minister', 'of', 'Japan', 'that', 'was', 'assassinated', 'in', '2022', '?']\n",
      "['When', 'did', 'Chandrayaan-3', 'land', 'near', 'the', 'south', 'pole', 'of', 'the', 'Moon', '?']\n",
      "['Where', 'did', 'Chandrayaan-3', 'land', 'on', 'the', 'Moon', '?']\n",
      "['Who', 'acquired', 'Twitter', 'in', '2022', '?']\n",
      "['Who', 'owns', 'Twitter', '?']\n",
      "['Who', 'acquired', 'Activision', 'Blizzard', 'in', '2023', '?']\n"
     ]
    }
   ],
   "source": [
    "from nltk.tokenize import word_tokenize\n",
    "sample_questions = [\n",
    "                        \"Who won the 2022 soccer world cup?\",\n",
    "                        \"When did Sweden join NATO?\",\n",
    "                        \"Who joined NATO in 2023?\",\n",
    "                        \"Who joined NATO in 2024?\",\n",
    "                        \"Which is the 31st member of NATO?\",\n",
    "                        \"Which is the 32nd member of NATO?\",\n",
    "                        \"Who won the Cricket World Cup in 2023?\",\n",
    "                        \"Who defeated India in Cricket World Cup final in 2023?\",\n",
    "                        \"Name the former prime minister of Japan that was assassinated in 2022?\",\n",
    "                        \"When did Chandrayaan-3 land near the south pole of the Moon?\",\n",
    "                        \"Where did Chandrayaan-3 land on the Moon?\",\n",
    "                        \"Who acquired Twitter in 2022?\",\n",
    "                        \"Who owns Twitter?\",\n",
    "                        \"Who acquired Activision Blizzard in 2023?\"\n",
    "                   ]\n",
    "\n",
    "#print(len(sample_questions))\n",
    "\n",
    "# tokenized questions\n",
    "tokenized_questions = [word_tokenize(i) for i in sample_questions]\n",
    "# print(len(tokenized_questions))\n",
    "\n",
    "for i in tokenized_questions:\n",
    "    print(i)"
   ]
  },
  {
   "cell_type": "code",
   "execution_count": 46,
   "metadata": {},
   "outputs": [
    {
     "name": "stdout",
     "output_type": "stream",
     "text": [
      "(5400,)\n",
      "[ 0.76222003  0.4244      0.52142    ... -0.074273    0.75808001\n",
      " -0.34243   ]\n"
     ]
    }
   ],
   "source": [
    "sample_questions_vector = np.array([])\n",
    "\n",
    "for i in sample_questions:\n",
    "    sample_questions_vector = np.append(sample_questions_vector, convert_to_vector(i))\n",
    "\n",
    "\n",
    "print(sample_questions_vector.shape)\n",
    "print(sample_questions_vector)"
   ]
  },
  {
   "cell_type": "code",
   "execution_count": 47,
   "metadata": {},
   "outputs": [
    {
     "name": "stdout",
     "output_type": "stream",
     "text": [
      "0     [[0.76222, 0.4244, 0.52142, -0.17333, 0.88267,...\n",
      "1     [[0.30449, -0.19628, 0.20225, -0.61687, -0.684...\n",
      "2     [[-0.12698, -0.093075, -0.9536, -0.55698, 0.51...\n",
      "3     [[-0.12698, -0.093075, -0.9536, -0.55698, 0.51...\n",
      "4     [[-0.54264, 0.41476, 1.0322, -0.40244, 0.46691...\n",
      "5     [[-0.54264, 0.41476, 1.0322, -0.40244, 0.46691...\n",
      "6     [[0.76222, 0.4244, 0.52142, -0.17333, 0.88267,...\n",
      "7     [[-0.55123, -0.071932, 0.64235, -0.40988, 0.35...\n",
      "8     [[-0.038194, -0.24487, 0.72812, -0.39961, 0.08...\n",
      "9     [[0.30449, -0.19628, 0.20225, -0.61687, -0.684...\n",
      "10    [[0.30449, -0.19628, 0.20225, -0.61687, -0.684...\n",
      "11    [[0.91016, -0.32978, -0.1976, 0.26211, 0.52823...\n",
      "12    [[0.50264, -0.066676, 0.066302, -0.0039705, 0....\n",
      "13    [[0.91016, -0.32978, -0.1976, 0.26211, 0.52823...\n",
      "Name: vectors, dtype: object\n"
     ]
    }
   ],
   "source": [
    "word2vec_output_file = \"/mnt/9636D17436D15639/University/CE/Deep Learning/Dr Safabakhsh/Spring 2024/Dataset/glove.word2vec.txt\"\n",
    "\n",
    "glove_model_question = KeyedVectors.load_word2vec_format(word2vec_output_file, binary=False)\n",
    "\n",
    "# Create a DataFrame with sample questions\n",
    "df_question = pd.DataFrame({\"text\": sample_questions})\n",
    "\n",
    "# Apply the convert_to_vector function to each question\n",
    "df_question[\"vectors\"] = df_question[\"text\"].apply(convert_to_vector)\n",
    "\n",
    "# Save the DataFrame to a CSV file\n",
    "df_question.to_csv(\"sample_questions_vector.csv\", index=False)\n",
    "\n",
    "# Print the vectors for each question\n",
    "print(df_question[\"vectors\"])"
   ]
  },
  {
   "cell_type": "code",
   "execution_count": 48,
   "metadata": {},
   "outputs": [
    {
     "data": {
      "image/png": "[encoded data removed]",
      "text/plain": [
       "<Figure size 1000x1000 with 1 Axes>"
      ]
     },
     "metadata": {},
     "output_type": "display_data"
    }
   ],
   "source": [
    "# extract the word vectors and their corresponding words\n",
    "words_question = []\n",
    "vectors_question = []\n",
    "for _, row in df_question.iterrows():\n",
    "    for word, vector in zip(row[\"text\"].split(), row[\"vectors\"]):\n",
    "        words_question.append(word)\n",
    "        vectors_question.append(vector)\n",
    "\n",
    "# use t-SNE to reduce the dimension of the vectors to 2D\n",
    "vectors_question = np.array(vectors_question)\n",
    "tsne_question = TSNE(n_components=2, random_state=0)\n",
    "vectors_2d_question = tsne.fit_transform(vectors_question)\n",
    "\n",
    "# vrctors_2d = vectors.reshape(-1, 2)\n",
    "\n",
    "plt.figure(figsize=(10, 10))\n",
    "cmap = plt.get_cmap(\"Spectral\")\n",
    "colors = cmap(np.linspace(0, 1, len(vectors_2d_question)))\n",
    "plt.scatter(vectors_2d_question[:, 0], vectors_2d_question[:, 1], edgecolors='k', c=colors, alpha=1, marker='.', s=100)\n",
    "plt.grid(True, color='gray', linestyle='--', linewidth=0.5)\n",
    "\n",
    "for word, (x, y) in zip(words_question, vectors_2d_question):\n",
    "    plt.text(x, y, word, fontsize=10)\n",
    "\n",
    "plt.title(\"t-SNE visualization of question word vectors\", fontsize=20)\n",
    "plt.xlabel(\"X1\", fontsize=15)\n",
    "plt.ylabel(\"X2\", fontsize=15)\n",
    "\n",
    "plt.show()"
   ]
  },
  {
   "cell_type": "markdown",
   "metadata": {},
   "source": [
    "### plot cluster for each question"
   ]
  },
  {
   "cell_type": "code",
   "execution_count": 49,
   "metadata": {},
   "outputs": [
    {
     "name": "stdout",
     "output_type": "stream",
     "text": [
      " [ 50000 / 50000 ] 100% - 0:00:00 left \n",
      " quantization error: 158.81370066437225\n"
     ]
    },
    {
     "data": {
      "image/png": "[encoded data removed]",
      "text/plain": [
       "<Figure size 800x600 with 1 Axes>"
      ]
     },
     "metadata": {},
     "output_type": "display_data"
    }
   ],
   "source": [
    "som_shape = (2, 3)\n",
    "som = MiniSom(som_shape[0], som_shape[1], vectors_2d_question.shape[1], sigma=0.5, learning_rate=0.5,\n",
    "            neighborhood_function='gaussian', random_seed=10)\n",
    "\n",
    "som.train_batch(vectors_2d_question, 50000, verbose=True)\n",
    "\n",
    "winner_coordinates = np.array([som.winner(x) for x in vectors_2d_question]).T\n",
    "cluster_index = np.ravel_multi_index(winner_coordinates, som_shape)\n",
    "\n",
    "\n",
    "plt.figure(figsize=(8, 6))\n",
    "for c in np.unique(cluster_index):\n",
    "    plt.scatter(vectors_2d_question[cluster_index == c, 0],\n",
    "                vectors_2d_question[cluster_index == c, 1], label='cluster='+str(c), alpha=0.7)\n",
    "    plt.title(\"Question clusters\", fontsize=20)\n",
    "    plt.xlabel(\"X1\", fontsize=15)\n",
    "    plt.ylabel(\"X2\", fontsize=15)\n",
    "\n",
    "for centroid in som.get_weights():\n",
    "    plt.scatter(centroid[:, 0], centroid[:, 1], marker='x',\n",
    "                s=100, linewidths=2, color='k', label='centroid')"
   ]
  },
  {
   "cell_type": "code",
   "execution_count": 57,
   "metadata": {},
   "outputs": [
    {
     "name": "stdout",
     "output_type": "stream",
     "text": [
      "(14,)\n",
      "5\n",
      "(100,)\n"
     ]
    },
    {
     "data": {
      "text/plain": [
       "array([ 0.76222  ,  0.4244   ,  0.52142  , -0.17333  ,  0.88267  ,\n",
       "       -0.34731  ,  0.56977  ,  0.56831  , -1.1566   , -0.1112   ,\n",
       "        0.65045  , -0.327    , -0.59486  , -0.11525  , -0.61917  ,\n",
       "       -0.26306  ,  0.099659 ,  0.19816  , -0.029884 ,  0.51016  ,\n",
       "        1.0697   ,  0.43445  ,  0.73357  ,  0.4988   ,  0.7165   ,\n",
       "       -0.68969  , -0.17862  , -0.82457  ,  1.2123   , -1.0012   ,\n",
       "       -0.10805  ,  0.79784  , -0.0074444,  0.31013  ,  0.52086  ,\n",
       "       -0.33906  , -0.24449  ,  1.4257   , -1.3048   ,  0.64268  ,\n",
       "       -0.064299 , -0.52785  ,  0.24627  , -0.71255  ,  0.15777  ,\n",
       "       -0.37284  ,  0.76634  , -0.83944  ,  0.38903  , -0.72386  ,\n",
       "       -1.0251   , -0.39154  ,  0.77334  ,  1.0487   ,  0.077734 ,\n",
       "       -2.3149   ,  0.22371  ,  0.60979  ,  0.45228  ,  0.28971  ,\n",
       "       -0.1929   ,  0.023149 , -0.74615  ,  0.7548   ,  0.62112  ,\n",
       "       -0.034022 ,  0.016985 ,  1.0178   , -0.14847  ,  0.47618  ,\n",
       "       -0.18533  ,  0.8837   , -0.76806  ,  0.42934  , -0.4407   ,\n",
       "        0.50914  , -0.99371  , -0.0265   , -1.0665   , -0.27986  ,\n",
       "        0.61159  , -0.067872 , -0.14687  , -0.029796 , -0.60673  ,\n",
       "       -0.29901  , -0.37141  ,  0.31543  ,  0.59648  ,  0.055415 ,\n",
       "       -0.078148 , -0.21809  , -0.020038 ,  1.0129   , -0.51481  ,\n",
       "        0.45144  , -0.59261  ,  0.52001  ,  0.5746   ,  0.25853  ],\n",
       "      dtype=float32)"
      ]
     },
     "execution_count": 57,
     "metadata": {},
     "output_type": "execute_result"
    }
   ],
   "source": [
    "print(df_question[\"vectors\"].shape)\n",
    "print(len(df_question[\"vectors\"][0]))\n",
    "print(df_question[\"vectors\"][0][0].shape)\n",
    "\n",
    "\n",
    "df_question[\"vectors\"][0][0]"
   ]
  },
  {
   "cell_type": "markdown",
   "metadata": {},
   "source": [
    "### resize questions dataframe"
   ]
  },
  {
   "cell_type": "code",
   "execution_count": 58,
   "metadata": {},
   "outputs": [
    {
     "name": "stdout",
     "output_type": "stream",
     "text": [
      "(11239, 100)\n",
      "(14, 9, 100)\n"
     ]
    }
   ],
   "source": [
    "from sklearn.metrics.pairwise import cosine_similarity\n",
    "from keras.preprocessing.sequence import pad_sequences\n",
    "\n",
    "vectors_question_list = df_question[\"vectors\"].tolist()\n",
    "vectors_question_list_padded = pad_sequences(vectors_question_list, padding='post')\n",
    "vectors_question = np.array(vectors_question_list_padded)\n",
    "\n",
    "print(vectors.shape)\n",
    "print(vectors_question.shape)"
   ]
  },
  {
   "cell_type": "markdown",
   "metadata": {},
   "source": [
    "### Calculate cosine similarity between input dataset and question dataset"
   ]
  },
  {
   "cell_type": "code",
   "execution_count": 68,
   "metadata": {},
   "outputs": [
    {
     "name": "stdout",
     "output_type": "stream",
     "text": [
      "maximum cosine similarity is:  0.7874722035488095\n",
      "minimum cosine similarity is:  -0.509642610657858\n",
      "--------------------------------------------------\n",
      "[[ 0.43380143  0.55897001  0.01306567 ...  0.          0.\n",
      "   0.        ]\n",
      " [ 0.46714767  0.74748072 -0.01150365 ...  0.          0.\n",
      "   0.        ]\n",
      " [ 0.29249495  0.53389831  0.15125115 ...  0.          0.\n",
      "   0.        ]\n",
      " ...\n",
      " [ 0.18637699  0.20286848 -0.1090457  ...  0.          0.\n",
      "   0.        ]\n",
      " [ 0.42644385  0.50590687  0.1077436  ...  0.          0.\n",
      "   0.        ]\n",
      " [ 0.43460016  0.53521315  0.10645972 ...  0.          0.\n",
      "   0.        ]]\n"
     ]
    }
   ],
   "source": [
    "vectors_question_2d = vectors_question.reshape(-1, vectors_question.shape[-1])\n",
    "\n",
    "cos_sim = cosine_similarity(vectors, vectors_question_2d)\n",
    "\n",
    "print(\"maximum cosine similarity is: \", cos_sim.max())\n",
    "print(\"minimum cosine similarity is: \", cos_sim.min())\n",
    "print('-'*50)\n",
    "print(cos_sim)"
   ]
  }
 ],
 "metadata": {
  "kernelspec": {
   "display_name": "Python 3 (ipykernel)",
   "language": "python",
   "name": "python3"
  },
  "language_info": {
   "codemirror_mode": {
    "name": "ipython",
    "version": 3
   },
   "file_extension": ".py",
   "mimetype": "text/x-python",
   "name": "python",
   "nbconvert_exporter": "python",
   "pygments_lexer": "ipython3",
   "version": "3.11.6"
  }
 },
 "nbformat": 4,
 "nbformat_minor": 4
}
