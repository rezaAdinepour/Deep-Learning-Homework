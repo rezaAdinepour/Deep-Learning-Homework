{
 "cells": [
  {
   "cell_type": "markdown",
   "metadata": {},
   "source": [
    "# [Deep Learning](https://github.com/M-Sc-AUT/M.Sc-Computer-Architecture/tree/main/Deep%20Learning) - Spring 2024\n",
    "#### [Reza Adinepour](https://github.com/rezaAdinepour)\n",
    "#### Stu.ID: 402131055"
   ]
  },
  {
   "cell_type": "markdown",
   "metadata": {},
   "source": [
    "## Question 1 - Part 3:\n",
    "\n",
    "In this part, we will apply some of NLP techniques on a dataset containing Wikipedia texts ($\\texttt{WikipediaEvents.csv}$ file). The primary goal of this part is to demonstrate how various NLP techniques can be effectively utilized in data science to process and analyze textual data.\n",
    "\n",
    "## Project Objectives\n",
    "\n",
    "1. **Text Preprocessing:** Cleaning the text in the dataset for analysis, which includes converting text to lower case, removing punctuation, and eliminating numerical expressions.\n",
    "\n",
    "2. **Stopwords Removal:** Enhancing feature extraction by omitting commonly occurring words that add little value to the text's meaning.\n",
    "\n",
    "3. **Word Frequency Analysis:** Identifying the most prevalent terms by calculating word frequencies within the text.\n",
    "\n",
    "4. **Data Visualization:** Using graphical tools like barplot graphs and WordCloud for a more illustrative presentation of the data."
   ]
  },
  {
   "cell_type": "markdown",
   "metadata": {},
   "source": [
    "### Install important libraries"
   ]
  },
  {
   "cell_type": "code",
   "execution_count": 4,
   "metadata": {},
   "outputs": [
    {
     "name": "stdout",
     "output_type": "stream",
     "text": [
      "Defaulting to user installation because normal site-packages is not writeable\n",
      "Requirement already satisfied: nltk in /usr/lib/python3/dist-packages (3.8.1)\n",
      "Defaulting to user installation because normal site-packages is not writeable\n",
      "Requirement already satisfied: twython in /home/reza/.local/lib/python3.11/site-packages (3.9.1)\n",
      "Requirement already satisfied: requests>=2.1.0 in /home/reza/.local/lib/python3.11/site-packages (from twython) (2.31.0)\n",
      "Requirement already satisfied: requests-oauthlib>=0.4.0 in /home/reza/.local/lib/python3.11/site-packages (from twython) (1.3.1)\n",
      "Requirement already satisfied: charset-normalizer<4,>=2 in /home/reza/.local/lib/python3.11/site-packages (from requests>=2.1.0->twython) (3.3.2)\n",
      "Requirement already satisfied: idna<4,>=2.5 in /home/reza/.local/lib/python3.11/site-packages (from requests>=2.1.0->twython) (2.10)\n",
      "Requirement already satisfied: urllib3<3,>=1.21.1 in /usr/lib/python3/dist-packages (from requests>=2.1.0->twython) (1.26.16)\n",
      "Requirement already satisfied: certifi>=2017.4.17 in /usr/lib/python3/dist-packages (from requests>=2.1.0->twython) (2022.9.24)\n",
      "Requirement already satisfied: oauthlib>=3.0.0 in /usr/lib/python3/dist-packages (from requests-oauthlib>=0.4.0->twython) (3.2.2)\n",
      "Defaulting to user installation because normal site-packages is not writeable\n",
      "Requirement already satisfied: textblob in /home/reza/.local/lib/python3.11/site-packages (0.18.0.post0)\n",
      "Requirement already satisfied: nltk>=3.8 in /usr/lib/python3/dist-packages (from textblob) (3.8.1)\n",
      "Defaulting to user installation because normal site-packages is not writeable\n",
      "Requirement already satisfied: wordcloud in /home/reza/.local/lib/python3.11/site-packages (1.9.3)\n",
      "Requirement already satisfied: numpy>=1.6.1 in /usr/lib/python3/dist-packages (from wordcloud) (1.24.2)\n",
      "Requirement already satisfied: pillow in /usr/lib/python3/dist-packages (from wordcloud) (10.0.0)\n",
      "Requirement already satisfied: matplotlib in /home/reza/.local/lib/python3.11/site-packages (from wordcloud) (3.8.2)\n",
      "Requirement already satisfied: contourpy>=1.0.1 in /home/reza/.local/lib/python3.11/site-packages (from matplotlib->wordcloud) (1.2.0)\n",
      "Requirement already satisfied: cycler>=0.10 in /home/reza/.local/lib/python3.11/site-packages (from matplotlib->wordcloud) (0.12.1)\n",
      "Requirement already satisfied: fonttools>=4.22.0 in /home/reza/.local/lib/python3.11/site-packages (from matplotlib->wordcloud) (4.45.1)\n",
      "Requirement already satisfied: kiwisolver>=1.3.1 in /home/reza/.local/lib/python3.11/site-packages (from matplotlib->wordcloud) (1.4.5)\n",
      "Requirement already satisfied: packaging>=20.0 in /usr/lib/python3/dist-packages (from matplotlib->wordcloud) (23.1)\n",
      "Requirement already satisfied: pyparsing>=2.3.1 in /usr/lib/python3/dist-packages (from matplotlib->wordcloud) (3.1.0)\n",
      "Requirement already satisfied: python-dateutil>=2.7 in /usr/lib/python3/dist-packages (from matplotlib->wordcloud) (2.8.2)\n"
     ]
    }
   ],
   "source": [
    "!pip install nltk\n",
    "!pip install twython\n",
    "!pip install textblob\n",
    "!pip install wordcloud"
   ]
  },
  {
   "cell_type": "markdown",
   "metadata": {},
   "source": [
    "### Import libraries"
   ]
  },
  {
   "cell_type": "code",
   "execution_count": 6,
   "metadata": {},
   "outputs": [],
   "source": [
    "from warnings import filterwarnings\n",
    "import matplotlib.pyplot as plt\n",
    "import numpy as np\n",
    "import pandas as pd\n",
    "import nltk\n",
    "from PIL import Image\n",
    "from nltk.corpus import stopwords\n",
    "from nltk.sentiment import SentimentIntensityAnalyzer\n",
    "from sklearn.feature_extraction.text import CountVectorizer\n",
    "from sklearn.feature_extraction.text import TfidfVectorizer\n",
    "from sklearn.ensemble import RandomForestClassifier\n",
    "from sklearn.linear_model import LogisticRegression\n",
    "from sklearn.model_selection import cross_val_score, GridSearchCV, cross_validate, train_test_split\n",
    "from sklearn.metrics import classification_report\n",
    "from sklearn.preprocessing import LabelEncoder\n",
    "from textblob import Word, TextBlob\n",
    "from wordcloud import WordCloud"
   ]
  },
  {
   "cell_type": "markdown",
   "metadata": {},
   "source": [
    "### Adjusting row column settings"
   ]
  },
  {
   "cell_type": "code",
   "execution_count": 10,
   "metadata": {},
   "outputs": [],
   "source": [
    "filterwarnings('ignore')\n",
    "pd.set_option('display.max_columns', None)\n",
    "pd.set_option('display.width', 200)\n",
    "pd.set_option('display.float_format', lambda x: '%.2f' % x)"
   ]
  },
  {
   "cell_type": "markdown",
   "metadata": {},
   "source": [
    "### Loading dataset"
   ]
  },
  {
   "cell_type": "code",
   "execution_count": 11,
   "metadata": {},
   "outputs": [
    {
     "name": "stdout",
     "output_type": "stream",
     "text": [
      "shape of dataset: (473, 1)\n"
     ]
    },
    {
     "data": {
      "text/html": [
       "<div>\n",
       "<style scoped>\n",
       "    .dataframe tbody tr th:only-of-type {\n",
       "        vertical-align: middle;\n",
       "    }\n",
       "\n",
       "    .dataframe tbody tr th {\n",
       "        vertical-align: top;\n",
       "    }\n",
       "\n",
       "    .dataframe thead th {\n",
       "        text-align: right;\n",
       "    }\n",
       "</style>\n",
       "<table border=\"1\" class=\"dataframe\">\n",
       "  <thead>\n",
       "    <tr style=\"text-align: right;\">\n",
       "      <th></th>\n",
       "      <th>text</th>\n",
       "    </tr>\n",
       "  </thead>\n",
       "  <tbody>\n",
       "    <tr>\n",
       "      <th>0</th>\n",
       "      <td>January 1, 2022 – The Regional Comprehensive E...</td>\n",
       "    </tr>\n",
       "    <tr>\n",
       "      <th>1</th>\n",
       "      <td>January 2, 2022 – Abdalla Hamdok resigns as Pr...</td>\n",
       "    </tr>\n",
       "    <tr>\n",
       "      <th>2</th>\n",
       "      <td>January 4, 2022 – The five permanent members o...</td>\n",
       "    </tr>\n",
       "    <tr>\n",
       "      <th>3</th>\n",
       "      <td>January 5, 2022 – A nationwide state of emerge...</td>\n",
       "    </tr>\n",
       "    <tr>\n",
       "      <th>4</th>\n",
       "      <td>January 6, 2022 – The CSTO deploys a \"peacekee...</td>\n",
       "    </tr>\n",
       "  </tbody>\n",
       "</table>\n",
       "</div>"
      ],
      "text/plain": [
       "                                                text\n",
       "0  January 1, 2022 – The Regional Comprehensive E...\n",
       "1  January 2, 2022 – Abdalla Hamdok resigns as Pr...\n",
       "2  January 4, 2022 – The five permanent members o...\n",
       "3  January 5, 2022 – A nationwide state of emerge...\n",
       "4  January 6, 2022 – The CSTO deploys a \"peacekee..."
      ]
     },
     "execution_count": 11,
     "metadata": {},
     "output_type": "execute_result"
    }
   ],
   "source": [
    "df = pd.read_csv(\"WikipediaEvents.csv\", index_col=0)\n",
    "print(\"shape of dataset: {}\" .format(df.shape))\n",
    "df.head()"
   ]
  },
  {
   "cell_type": "markdown",
   "metadata": {},
   "source": [
    "## Text preprocessing"
   ]
  },
  {
   "cell_type": "code",
   "execution_count": 13,
   "metadata": {},
   "outputs": [
    {
     "data": {
      "text/plain": [
       "0      January 1, 2022 – The Regional Comprehensive E...\n",
       "1      January 2, 2022 – Abdalla Hamdok resigns as Pr...\n",
       "2      January 4, 2022 – The five permanent members o...\n",
       "3      January 5, 2022 – A nationwide state of emerge...\n",
       "4      January 6, 2022 – The CSTO deploys a \"peacekee...\n",
       "                             ...                        \n",
       "468    October, 2024 – 2024 Georgian presidential ele...\n",
       "469     November, 2024 – 2024 Namibian general election.\n",
       "470    November, 2024 – 2024 Romanian presidential el...\n",
       "471    November, 2024 – Lee Hsien Loong, Prime Minist...\n",
       "472    December, 2024 – 2024 Croatian presidential el...\n",
       "Name: text, Length: 473, dtype: object"
      ]
     },
     "execution_count": 13,
     "metadata": {},
     "output_type": "execute_result"
    }
   ],
   "source": [
    "df[\"text\"]"
   ]
  },
  {
   "cell_type": "markdown",
   "metadata": {},
   "source": [
    "### 1. Lowercases, Punctuation, Numbers and Newline Characters"
   ]
  },
  {
   "cell_type": "code",
   "execution_count": 14,
   "metadata": {},
   "outputs": [],
   "source": [
    "def clean_text(text):\n",
    "    \"\"\"\n",
    "    Clean and preprocess text data.\n",
    "\n",
    "    This function performs several cleaning operations on text data:\n",
    "    - Lowercases the text (Case Folding)\n",
    "    - Removes punctuation\n",
    "    - Removes numbers\n",
    "    - Removes newline characters\n",
    "\n",
    "    Parameters:\n",
    "    text (pandas.Series): A pandas Series containing text data.\n",
    "\n",
    "    Returns:\n",
    "    pandas.Series: A pandas Series with cleaned text.\n",
    "    \"\"\"\n",
    "    # Lowercasing (Case Folding)\n",
    "    text = text.str.lower()\n",
    "    # Removing punctuations, numbers, and newline characters\n",
    "    text = text.str.replace(r'[^\\w\\s]', '', regex=True)\n",
    "    text = text.str.replace(\"\\n\", '', regex=True)\n",
    "    text = text.str.replace('\\d', '', regex=True)\n",
    "    return text"
   ]
  },
  {
   "cell_type": "code",
   "execution_count": 15,
   "metadata": {},
   "outputs": [
    {
     "data": {
      "text/plain": [
       "0      january    the regional comprehensive economic...\n",
       "1      january    abdalla hamdok resigns as prime min...\n",
       "2      january    the five permanent members of the u...\n",
       "3      january    a nationwide state of emergency is ...\n",
       "4      january    the csto deploys a peacekeeping mis...\n",
       "                             ...                        \n",
       "468            october    georgian presidential election\n",
       "469                november    namibian general election\n",
       "470           november    romanian presidential election\n",
       "471    november   lee hsien loong prime minister of s...\n",
       "472           december    croatian presidential election\n",
       "Name: text, Length: 473, dtype: object"
      ]
     },
     "execution_count": 15,
     "metadata": {},
     "output_type": "execute_result"
    }
   ],
   "source": [
    "df[\"text\"] = clean_text(df[\"text\"])\n",
    "df[\"text\"]"
   ]
  },
  {
   "cell_type": "markdown",
   "metadata": {},
   "source": [
    "### 2. Stopwords Removal"
   ]
  },
  {
   "cell_type": "code",
   "execution_count": 16,
   "metadata": {},
   "outputs": [
    {
     "name": "stderr",
     "output_type": "stream",
     "text": [
      "[nltk_data] Downloading package stopwords to /home/reza/nltk_data...\n",
      "[nltk_data]   Package stopwords is already up-to-date!\n"
     ]
    }
   ],
   "source": [
    "nltk.download(\"stopwords\")\n",
    "stop_words = stopwords.words(\"english\")"
   ]
  },
  {
   "cell_type": "code",
   "execution_count": 18,
   "metadata": {},
   "outputs": [],
   "source": [
    "def remove_stopwords(text):\n",
    "    \"\"\"\n",
    "    Remove stopwords from text data.\n",
    "\n",
    "    This function filters out common stopwords from the text data. \n",
    "    Stopwords are removed based on the NLTK's English stopwords list.\n",
    "\n",
    "    Parameters:\n",
    "    text (pandas.Series): A pandas Series containing text data.\n",
    "\n",
    "    Returns:\n",
    "    pandas.Series: A pandas Series with stopwords removed from the text.\n",
    "    \"\"\"\n",
    "    # Removing stopwords\n",
    "    text = text.apply(lambda x: \" \".join(word for word in str(x).split() if word not in stop_words))\n",
    "    return text"
   ]
  },
  {
   "cell_type": "code",
   "execution_count": 19,
   "metadata": {},
   "outputs": [
    {
     "data": {
      "text/plain": [
       "0      january regional comprehensive economic partne...\n",
       "1      january abdalla hamdok resigns prime minister ...\n",
       "2      january five permanent members un security cou...\n",
       "3      january nationwide state emergency declared ka...\n",
       "4      january csto deploys peacekeeping mission kaza...\n",
       "                             ...                        \n",
       "468               october georgian presidential election\n",
       "469                   november namibian general election\n",
       "470              november romanian presidential election\n",
       "471    november lee hsien loong prime minister singap...\n",
       "472              december croatian presidential election\n",
       "Name: text, Length: 473, dtype: object"
      ]
     },
     "execution_count": 19,
     "metadata": {},
     "output_type": "execute_result"
    }
   ],
   "source": [
    "df[\"text\"] = remove_stopwords(df[\"text\"])\n",
    "df[\"text\"]"
   ]
  },
  {
   "cell_type": "markdown",
   "metadata": {},
   "source": [
    "### 3. Rare Words and Frequent Words"
   ]
  },
  {
   "cell_type": "code",
   "execution_count": 20,
   "metadata": {},
   "outputs": [],
   "source": [
    "def remove_rare_words(df, column_name, n_rare_words=1000):\n",
    "    \"\"\"\n",
    "    Remove rare words from a specified column in a pandas DataFrame.\n",
    "\n",
    "    This function identifies and removes the least frequently occurring words\n",
    "    in the text data. It is useful for removing rare words that might not contribute\n",
    "    significantly to the analysis or modeling.\n",
    "\n",
    "    Parameters:\n",
    "    df (pandas.DataFrame): A pandas DataFrame containing the text data.\n",
    "    column_name (str): The name of the column in the DataFrame to clean.\n",
    "    n_rare_words (int): The number of least frequent words to remove.\n",
    "\n",
    "    Returns:\n",
    "    pandas.DataFrame: A DataFrame with rare words removed from the specified column.\n",
    "    \"\"\"\n",
    "    # Identifying the rare words\n",
    "    freq = pd.Series(' '.join(df[column_name]).split()).value_counts()\n",
    "    rare_words = freq[-n_rare_words:]\n",
    "\n",
    "    # Removing the rare words\n",
    "    df[column_name] = df[column_name].apply(lambda x: \" \".join(word for word in x.split() if word not in rare_words))\n",
    "    return df"
   ]
  },
  {
   "cell_type": "code",
   "execution_count": 21,
   "metadata": {},
   "outputs": [
    {
     "data": {
      "text/plain": [
       "0      january regional comprehensive economic larges...\n",
       "1      january resigns prime minister sudan amid dead...\n",
       "2      january five permanent members un security fra...\n",
       "3      january nationwide state emergency declared ka...\n",
       "4      january deploys peacekeeping mission kazakhsta...\n",
       "                             ...                        \n",
       "468               october georgian presidential election\n",
       "469                   november namibian general election\n",
       "470              november romanian presidential election\n",
       "471    november lee hsien loong prime minister singap...\n",
       "472              december croatian presidential election\n",
       "Name: text, Length: 473, dtype: object"
      ]
     },
     "execution_count": 21,
     "metadata": {},
     "output_type": "execute_result"
    }
   ],
   "source": [
    "df = remove_rare_words(df, 'text', 1000)\n",
    "df[\"text\"]"
   ]
  },
  {
   "cell_type": "markdown",
   "metadata": {},
   "source": [
    "### 4. Tokenization"
   ]
  },
  {
   "cell_type": "code",
   "execution_count": 22,
   "metadata": {},
   "outputs": [
    {
     "name": "stderr",
     "output_type": "stream",
     "text": [
      "[nltk_data] Downloading package punkt to /home/reza/nltk_data...\n",
      "[nltk_data]   Package punkt is already up-to-date!\n"
     ]
    },
    {
     "data": {
      "text/plain": [
       "0      [january, regional, comprehensive, economic, l...\n",
       "1      [january, resigns, prime, minister, sudan, ami...\n",
       "2      [january, five, permanent, members, un, securi...\n",
       "3      [january, nationwide, state, emergency, declar...\n",
       "4      [january, deploys, peacekeeping, mission, kaza...\n",
       "                             ...                        \n",
       "468          [october, georgian, presidential, election]\n",
       "469              [november, namibian, general, election]\n",
       "470         [november, romanian, presidential, election]\n",
       "471    [november, lee, hsien, loong, prime, minister,...\n",
       "472         [december, croatian, presidential, election]\n",
       "Name: text, Length: 473, dtype: object"
      ]
     },
     "execution_count": 22,
     "metadata": {},
     "output_type": "execute_result"
    }
   ],
   "source": [
    "nltk.download('punkt')\n",
    "df[\"text\"].apply(lambda x: TextBlob(x).words)"
   ]
  },
  {
   "cell_type": "markdown",
   "metadata": {},
   "source": [
    "### 5. Lemmatization"
   ]
  },
  {
   "cell_type": "code",
   "execution_count": 23,
   "metadata": {},
   "outputs": [
    {
     "name": "stderr",
     "output_type": "stream",
     "text": [
      "[nltk_data] Downloading package wordnet to /home/reza/nltk_data...\n",
      "[nltk_data] Downloading package omw-1.4 to /home/reza/nltk_data...\n"
     ]
    },
    {
     "data": {
      "text/plain": [
       "True"
      ]
     },
     "execution_count": 23,
     "metadata": {},
     "output_type": "execute_result"
    }
   ],
   "source": [
    "nltk.download('wordnet')\n",
    "nltk.download('omw-1.4')"
   ]
  },
  {
   "cell_type": "code",
   "execution_count": 30,
   "metadata": {},
   "outputs": [],
   "source": [
    "def apply_lemmatization(df, column_name):\n",
    "    \"\"\"\n",
    "    Apply lemmatization to a specified column in a pandas DataFrame.\n",
    "\n",
    "    This function performs lemmatization on the text data in the specified column.\n",
    "    Lemmatization involves reducing each word to its base or root form.\n",
    "\n",
    "    Parameters:\n",
    "    df (pandas.DataFrame): A pandas DataFrame containing the text data.\n",
    "    column_name (str): The name of the column in the DataFrame to process.\n",
    "\n",
    "    Returns:\n",
    "    pandas.DataFrame: A DataFrame with lemmatized text in the specified column.\n",
    "    \"\"\"\n",
    "    # Applying lemmatization\n",
    "    df[column_name] = df[column_name].apply(lambda x: \" \".join([Word(word).lemmatize() for word in x.split()]))\n",
    "\n",
    "    return df"
   ]
  },
  {
   "cell_type": "code",
   "execution_count": 31,
   "metadata": {},
   "outputs": [
    {
     "data": {
      "text/plain": [
       "0      january regional comprehensive economic larges...\n",
       "1      january resigns prime minister sudan amid dead...\n",
       "2      january five permanent member un security fran...\n",
       "3      january nationwide state emergency declared ka...\n",
       "4      january deploys peacekeeping mission kazakhsta...\n",
       "                             ...                        \n",
       "468               october georgian presidential election\n",
       "469                   november namibian general election\n",
       "470              november romanian presidential election\n",
       "471    november lee hsien loong prime minister singap...\n",
       "472              december croatian presidential election\n",
       "Name: text, Length: 473, dtype: object"
      ]
     },
     "execution_count": 31,
     "metadata": {},
     "output_type": "execute_result"
    }
   ],
   "source": [
    "df = apply_lemmatization(df, 'text')\n",
    "df['text']"
   ]
  },
  {
   "cell_type": "markdown",
   "metadata": {},
   "source": [
    "### 6. Calculation of Term Frequencies & Barplot & Word Cloud"
   ]
  },
  {
   "cell_type": "code",
   "execution_count": 40,
   "metadata": {},
   "outputs": [],
   "source": [
    "def plot_tf_and_wordcloud(df, column_name, tf_threshold=2000, max_font_size=50, max_words=100, background_color=\"black\"):\n",
    "    \"\"\"\n",
    "    Calculate term frequency (TF) and generate a word cloud for a specified column in a pandas DataFrame.\n",
    "\n",
    "    This function performs two main tasks:\n",
    "    1. Term Frequency Calculation and Bar Chart: Calculates the frequency of each word in the specified column and plots a bar chart for words with a frequency above a certain threshold.\n",
    "    2. Word Cloud Generation: Generates and displays a word cloud based on the text in the specified column.\n",
    "\n",
    "    Parameters:\n",
    "    df (pandas.DataFrame): A pandas DataFrame containing the text data.\n",
    "    column_name (str): The name of the column to analyze.\n",
    "    tf_threshold (int): The threshold for term frequency to be included in the bar chart.\n",
    "    max_font_size (int): Maximum font size for the word cloud.\n",
    "    max_words (int): The maximum number of words for the word cloud.\n",
    "    background_color (str): Background color for the word cloud.\n",
    "\n",
    "    Returns:\n",
    "    None: This function only plots the results and does not return any value.\n",
    "    \"\"\"\n",
    "    # 1. Term Frequency Calculation and Bar Chart\n",
    "    tf = df[column_name].apply(lambda x: pd.value_counts(x.split(\" \"))).sum(axis=0).reset_index()\n",
    "    tf.columns = [\"words\", \"tf\"]\n",
    "    high_tf = tf[tf[\"tf\"] > tf_threshold]\n",
    "    high_tf.plot.bar(x=\"words\", y=\"tf\", title=\"Term Frequency Bar Chart\")\n",
    "    plt.show()\n",
    "\n",
    "    # 2. Word Cloud Generation\n",
    "    text = \" \".join(i for i in df[column_name])\n",
    "    wordcloud = WordCloud(max_font_size=max_font_size, max_words=max_words, background_color=background_color).generate(text)\n",
    "    plt.figure(figsize=(10, 5))\n",
    "    plt.imshow(wordcloud, interpolation=\"bilinear\")\n",
    "    plt.title(\"Word Cloud\")\n",
    "    plt.axis(\"off\")\n",
    "    plt.show()"
   ]
  },
  {
   "cell_type": "code",
   "execution_count": 41,
   "metadata": {},
   "outputs": [
    {
     "ename": "IndexError",
     "evalue": "index 0 is out of bounds for axis 0 with size 0",
     "output_type": "error",
     "traceback": [
      "\u001b[0;31m---------------------------------------------------------------------------\u001b[0m",
      "\u001b[0;31mIndexError\u001b[0m                                Traceback (most recent call last)",
      "Cell \u001b[0;32mIn[41], line 1\u001b[0m\n\u001b[0;32m----> 1\u001b[0m \u001b[43mplot_tf_and_wordcloud\u001b[49m\u001b[43m(\u001b[49m\u001b[43mdf\u001b[49m\u001b[43m,\u001b[49m\u001b[43m \u001b[49m\u001b[38;5;124;43m\"\u001b[39;49m\u001b[38;5;124;43mtext\u001b[39;49m\u001b[38;5;124;43m\"\u001b[39;49m\u001b[43m)\u001b[49m\n",
      "Cell \u001b[0;32mIn[40], line 24\u001b[0m, in \u001b[0;36mplot_tf_and_wordcloud\u001b[0;34m(df, column_name, tf_threshold, max_font_size, max_words, background_color)\u001b[0m\n\u001b[1;32m     22\u001b[0m tf\u001b[38;5;241m.\u001b[39mcolumns \u001b[38;5;241m=\u001b[39m [\u001b[38;5;124m\"\u001b[39m\u001b[38;5;124mwords\u001b[39m\u001b[38;5;124m\"\u001b[39m, \u001b[38;5;124m\"\u001b[39m\u001b[38;5;124mtf\u001b[39m\u001b[38;5;124m\"\u001b[39m]\n\u001b[1;32m     23\u001b[0m high_tf \u001b[38;5;241m=\u001b[39m tf[tf[\u001b[38;5;124m\"\u001b[39m\u001b[38;5;124mtf\u001b[39m\u001b[38;5;124m\"\u001b[39m] \u001b[38;5;241m>\u001b[39m tf_threshold]\n\u001b[0;32m---> 24\u001b[0m \u001b[43mhigh_tf\u001b[49m\u001b[38;5;241;43m.\u001b[39;49m\u001b[43mplot\u001b[49m\u001b[38;5;241;43m.\u001b[39;49m\u001b[43mbar\u001b[49m\u001b[43m(\u001b[49m\u001b[43mx\u001b[49m\u001b[38;5;241;43m=\u001b[39;49m\u001b[38;5;124;43m\"\u001b[39;49m\u001b[38;5;124;43mwords\u001b[39;49m\u001b[38;5;124;43m\"\u001b[39;49m\u001b[43m,\u001b[49m\u001b[43m \u001b[49m\u001b[43my\u001b[49m\u001b[38;5;241;43m=\u001b[39;49m\u001b[38;5;124;43m\"\u001b[39;49m\u001b[38;5;124;43mtf\u001b[39;49m\u001b[38;5;124;43m\"\u001b[39;49m\u001b[43m,\u001b[49m\u001b[43m \u001b[49m\u001b[43mtitle\u001b[49m\u001b[38;5;241;43m=\u001b[39;49m\u001b[38;5;124;43m\"\u001b[39;49m\u001b[38;5;124;43mTerm Frequency Bar Chart\u001b[39;49m\u001b[38;5;124;43m\"\u001b[39;49m\u001b[43m)\u001b[49m\n\u001b[1;32m     25\u001b[0m plt\u001b[38;5;241m.\u001b[39mshow()\n\u001b[1;32m     27\u001b[0m \u001b[38;5;66;03m# 2. Word Cloud Generation\u001b[39;00m\n",
      "File \u001b[0;32m~/.local/lib/python3.11/site-packages/pandas/plotting/_core.py:1193\u001b[0m, in \u001b[0;36mPlotAccessor.bar\u001b[0;34m(self, x, y, **kwargs)\u001b[0m\n\u001b[1;32m   1103\u001b[0m \u001b[38;5;129m@Appender\u001b[39m(\n\u001b[1;32m   1104\u001b[0m \u001b[38;5;250m    \u001b[39m\u001b[38;5;124;03m\"\"\"\u001b[39;00m\n\u001b[1;32m   1105\u001b[0m \u001b[38;5;124;03m    See Also\u001b[39;00m\n\u001b[0;32m   (...)\u001b[0m\n\u001b[1;32m   1182\u001b[0m     \u001b[38;5;28mself\u001b[39m, x: Hashable \u001b[38;5;241m|\u001b[39m \u001b[38;5;28;01mNone\u001b[39;00m \u001b[38;5;241m=\u001b[39m \u001b[38;5;28;01mNone\u001b[39;00m, y: Hashable \u001b[38;5;241m|\u001b[39m \u001b[38;5;28;01mNone\u001b[39;00m \u001b[38;5;241m=\u001b[39m \u001b[38;5;28;01mNone\u001b[39;00m, \u001b[38;5;241m*\u001b[39m\u001b[38;5;241m*\u001b[39mkwargs\n\u001b[1;32m   1183\u001b[0m ) \u001b[38;5;241m-\u001b[39m\u001b[38;5;241m>\u001b[39m PlotAccessor:\n\u001b[1;32m   1184\u001b[0m \u001b[38;5;250m    \u001b[39m\u001b[38;5;124;03m\"\"\"\u001b[39;00m\n\u001b[1;32m   1185\u001b[0m \u001b[38;5;124;03m    Vertical bar plot.\u001b[39;00m\n\u001b[1;32m   1186\u001b[0m \n\u001b[0;32m   (...)\u001b[0m\n\u001b[1;32m   1191\u001b[0m \u001b[38;5;124;03m    other axis represents a measured value.\u001b[39;00m\n\u001b[1;32m   1192\u001b[0m \u001b[38;5;124;03m    \"\"\"\u001b[39;00m\n\u001b[0;32m-> 1193\u001b[0m     \u001b[38;5;28;01mreturn\u001b[39;00m \u001b[38;5;28;43mself\u001b[39;49m\u001b[43m(\u001b[49m\u001b[43mkind\u001b[49m\u001b[38;5;241;43m=\u001b[39;49m\u001b[38;5;124;43m\"\u001b[39;49m\u001b[38;5;124;43mbar\u001b[39;49m\u001b[38;5;124;43m\"\u001b[39;49m\u001b[43m,\u001b[49m\u001b[43m \u001b[49m\u001b[43mx\u001b[49m\u001b[38;5;241;43m=\u001b[39;49m\u001b[43mx\u001b[49m\u001b[43m,\u001b[49m\u001b[43m \u001b[49m\u001b[43my\u001b[49m\u001b[38;5;241;43m=\u001b[39;49m\u001b[43my\u001b[49m\u001b[43m,\u001b[49m\u001b[43m \u001b[49m\u001b[38;5;241;43m*\u001b[39;49m\u001b[38;5;241;43m*\u001b[39;49m\u001b[43mkwargs\u001b[49m\u001b[43m)\u001b[49m\n",
      "File \u001b[0;32m~/.local/lib/python3.11/site-packages/pandas/plotting/_core.py:1031\u001b[0m, in \u001b[0;36mPlotAccessor.__call__\u001b[0;34m(self, *args, **kwargs)\u001b[0m\n\u001b[1;32m   1028\u001b[0m             label_name \u001b[38;5;241m=\u001b[39m label_kw \u001b[38;5;129;01mor\u001b[39;00m data\u001b[38;5;241m.\u001b[39mcolumns\n\u001b[1;32m   1029\u001b[0m             data\u001b[38;5;241m.\u001b[39mcolumns \u001b[38;5;241m=\u001b[39m label_name\n\u001b[0;32m-> 1031\u001b[0m \u001b[38;5;28;01mreturn\u001b[39;00m \u001b[43mplot_backend\u001b[49m\u001b[38;5;241;43m.\u001b[39;49m\u001b[43mplot\u001b[49m\u001b[43m(\u001b[49m\u001b[43mdata\u001b[49m\u001b[43m,\u001b[49m\u001b[43m \u001b[49m\u001b[43mkind\u001b[49m\u001b[38;5;241;43m=\u001b[39;49m\u001b[43mkind\u001b[49m\u001b[43m,\u001b[49m\u001b[43m \u001b[49m\u001b[38;5;241;43m*\u001b[39;49m\u001b[38;5;241;43m*\u001b[39;49m\u001b[43mkwargs\u001b[49m\u001b[43m)\u001b[49m\n",
      "File \u001b[0;32m~/.local/lib/python3.11/site-packages/pandas/plotting/_matplotlib/__init__.py:71\u001b[0m, in \u001b[0;36mplot\u001b[0;34m(data, kind, **kwargs)\u001b[0m\n\u001b[1;32m     69\u001b[0m         kwargs[\u001b[38;5;124m\"\u001b[39m\u001b[38;5;124max\u001b[39m\u001b[38;5;124m\"\u001b[39m] \u001b[38;5;241m=\u001b[39m \u001b[38;5;28mgetattr\u001b[39m(ax, \u001b[38;5;124m\"\u001b[39m\u001b[38;5;124mleft_ax\u001b[39m\u001b[38;5;124m\"\u001b[39m, ax)\n\u001b[1;32m     70\u001b[0m plot_obj \u001b[38;5;241m=\u001b[39m PLOT_CLASSES[kind](data, \u001b[38;5;241m*\u001b[39m\u001b[38;5;241m*\u001b[39mkwargs)\n\u001b[0;32m---> 71\u001b[0m \u001b[43mplot_obj\u001b[49m\u001b[38;5;241;43m.\u001b[39;49m\u001b[43mgenerate\u001b[49m\u001b[43m(\u001b[49m\u001b[43m)\u001b[49m\n\u001b[1;32m     72\u001b[0m plot_obj\u001b[38;5;241m.\u001b[39mdraw()\n\u001b[1;32m     73\u001b[0m \u001b[38;5;28;01mreturn\u001b[39;00m plot_obj\u001b[38;5;241m.\u001b[39mresult\n",
      "File \u001b[0;32m~/.local/lib/python3.11/site-packages/pandas/plotting/_matplotlib/core.py:460\u001b[0m, in \u001b[0;36mMPLPlot.generate\u001b[0;34m(self)\u001b[0m\n\u001b[1;32m    458\u001b[0m \u001b[38;5;28;01mfor\u001b[39;00m ax \u001b[38;5;129;01min\u001b[39;00m \u001b[38;5;28mself\u001b[39m\u001b[38;5;241m.\u001b[39maxes:\n\u001b[1;32m    459\u001b[0m     \u001b[38;5;28mself\u001b[39m\u001b[38;5;241m.\u001b[39m_post_plot_logic_common(ax, \u001b[38;5;28mself\u001b[39m\u001b[38;5;241m.\u001b[39mdata)\n\u001b[0;32m--> 460\u001b[0m     \u001b[38;5;28;43mself\u001b[39;49m\u001b[38;5;241;43m.\u001b[39;49m\u001b[43m_post_plot_logic\u001b[49m\u001b[43m(\u001b[49m\u001b[43max\u001b[49m\u001b[43m,\u001b[49m\u001b[43m \u001b[49m\u001b[38;5;28;43mself\u001b[39;49m\u001b[38;5;241;43m.\u001b[39;49m\u001b[43mdata\u001b[49m\u001b[43m)\u001b[49m\n",
      "File \u001b[0;32m~/.local/lib/python3.11/site-packages/pandas/plotting/_matplotlib/core.py:1757\u001b[0m, in \u001b[0;36mBarPlot._post_plot_logic\u001b[0;34m(self, ax, data)\u001b[0m\n\u001b[1;32m   1754\u001b[0m \u001b[38;5;28;01melse\u001b[39;00m:\n\u001b[1;32m   1755\u001b[0m     str_index \u001b[38;5;241m=\u001b[39m [pprint_thing(key) \u001b[38;5;28;01mfor\u001b[39;00m key \u001b[38;5;129;01min\u001b[39;00m \u001b[38;5;28mrange\u001b[39m(data\u001b[38;5;241m.\u001b[39mshape[\u001b[38;5;241m0\u001b[39m])]\n\u001b[0;32m-> 1757\u001b[0m s_edge \u001b[38;5;241m=\u001b[39m \u001b[38;5;28;43mself\u001b[39;49m\u001b[38;5;241;43m.\u001b[39;49m\u001b[43max_pos\u001b[49m\u001b[43m[\u001b[49m\u001b[38;5;241;43m0\u001b[39;49m\u001b[43m]\u001b[49m \u001b[38;5;241m-\u001b[39m \u001b[38;5;241m0.25\u001b[39m \u001b[38;5;241m+\u001b[39m \u001b[38;5;28mself\u001b[39m\u001b[38;5;241m.\u001b[39mlim_offset\n\u001b[1;32m   1758\u001b[0m e_edge \u001b[38;5;241m=\u001b[39m \u001b[38;5;28mself\u001b[39m\u001b[38;5;241m.\u001b[39max_pos[\u001b[38;5;241m-\u001b[39m\u001b[38;5;241m1\u001b[39m] \u001b[38;5;241m+\u001b[39m \u001b[38;5;241m0.25\u001b[39m \u001b[38;5;241m+\u001b[39m \u001b[38;5;28mself\u001b[39m\u001b[38;5;241m.\u001b[39mbar_width \u001b[38;5;241m+\u001b[39m \u001b[38;5;28mself\u001b[39m\u001b[38;5;241m.\u001b[39mlim_offset\n\u001b[1;32m   1760\u001b[0m \u001b[38;5;28mself\u001b[39m\u001b[38;5;241m.\u001b[39m_decorate_ticks(ax, \u001b[38;5;28mself\u001b[39m\u001b[38;5;241m.\u001b[39m_get_index_name(), str_index, s_edge, e_edge)\n",
      "\u001b[0;31mIndexError\u001b[0m: index 0 is out of bounds for axis 0 with size 0"
     ]
    },
    {
     "data": {
      "image/png": "[encoded data removed]",
      "text/plain": [
       "<Figure size 640x480 with 1 Axes>"
      ]
     },
     "metadata": {},
     "output_type": "display_data"
    }
   ],
   "source": [
    "plot_tf_and_wordcloud(df, \"text\")"
   ]
  }
 ],
 "metadata": {
  "kernelspec": {
   "display_name": "Python 3",
   "language": "python",
   "name": "python3"
  },
  "language_info": {
   "codemirror_mode": {
    "name": "ipython",
    "version": 3
   },
   "file_extension": ".py",
   "mimetype": "text/x-python",
   "name": "python",
   "nbconvert_exporter": "python",
   "pygments_lexer": "ipython3",
   "version": "3.11.6"
  }
 },
 "nbformat": 4,
 "nbformat_minor": 2
}
