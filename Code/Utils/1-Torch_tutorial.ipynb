{
 "cells": [
  {
   "cell_type": "code",
   "execution_count": 1,
   "id": "b54e2c6a-faf6-4a1b-a688-67800154afe3",
   "metadata": {},
   "outputs": [],
   "source": [
    "import torch\n",
    "import numpy as np"
   ]
  },
  {
   "cell_type": "markdown",
   "id": "c6e64991",
   "metadata": {},
   "source": [
    "### check GPU available\n"
   ]
  },
  {
   "cell_type": "code",
   "execution_count": 94,
   "id": "fd2f42ab-ed34-422e-9122-92e2120f8b1b",
   "metadata": {},
   "outputs": [
    {
     "name": "stdout",
     "output_type": "stream",
     "text": [
      "cuda\n"
     ]
    }
   ],
   "source": [
    "device = torch.device(\"cuda\") if torch.cuda.is_available() else \"cpu\"\n",
    "print(device)"
   ]
  },
  {
   "cell_type": "markdown",
   "id": "ee0ffea3",
   "metadata": {},
   "source": [
    "### create tensor with custom value"
   ]
  },
  {
   "cell_type": "code",
   "execution_count": 9,
   "id": "818560b5-4c72-46cb-a792-bf001cc6c4df",
   "metadata": {},
   "outputs": [
    {
     "name": "stdout",
     "output_type": "stream",
     "text": [
      "tensor([1., 2., 3., 4.], device='cuda:0', dtype=torch.float64)\n",
      "torch.Size([4])\n",
      "tensor([4., 5., 6., 7.], device='cuda:0', dtype=torch.float64)\n",
      "torch.Size([4])\n"
     ]
    }
   ],
   "source": [
    "a = torch.tensor([1, 2, 3, 4], dtype=torch.float64, device=device)\n",
    "b = torch.tensor([4, 5, 6, 7], dtype=torch.float64, device=device)\n",
    "print(a)\n",
    "print(a.size())\n",
    "print(b)\n",
    "print(b.size())"
   ]
  },
  {
   "cell_type": "markdown",
   "id": "76d8291d",
   "metadata": {},
   "source": [
    "### create random tensor"
   ]
  },
  {
   "cell_type": "code",
   "execution_count": 25,
   "id": "e6944668",
   "metadata": {},
   "outputs": [
    {
     "name": "stdout",
     "output_type": "stream",
     "text": [
      "tensor([[0.3562, 0.9924, 0.5074, 0.2461],\n",
      "        [0.7582, 0.8656, 0.5525, 0.6764],\n",
      "        [0.4090, 0.8085, 0.8548, 0.3139],\n",
      "        [0.2251, 0.2642, 0.3328, 0.9133]], device='cuda:0',\n",
      "       dtype=torch.float64)\n"
     ]
    }
   ],
   "source": [
    "a = torch.rand(4, 4, dtype=torch.float64, device=device)\n",
    "print(a)"
   ]
  },
  {
   "cell_type": "markdown",
   "id": "1ffa9038",
   "metadata": {},
   "source": [
    "### zeros tensor"
   ]
  },
  {
   "cell_type": "code",
   "execution_count": 26,
   "id": "3dec35da",
   "metadata": {},
   "outputs": [
    {
     "name": "stdout",
     "output_type": "stream",
     "text": [
      "tensor([[0., 0., 0., 0.],\n",
      "        [0., 0., 0., 0.],\n",
      "        [0., 0., 0., 0.],\n",
      "        [0., 0., 0., 0.]], device='cuda:0', dtype=torch.float64)\n"
     ]
    }
   ],
   "source": [
    "a = torch.zeros(4, 4, dtype=torch.float64, device=device)\n",
    "print(a)"
   ]
  },
  {
   "cell_type": "markdown",
   "id": "7c4d82a6",
   "metadata": {},
   "source": [
    "### ones tensor"
   ]
  },
  {
   "cell_type": "code",
   "execution_count": 27,
   "id": "d73a2f21",
   "metadata": {},
   "outputs": [
    {
     "name": "stdout",
     "output_type": "stream",
     "text": [
      "tensor([[1., 1., 1., 1.],\n",
      "        [1., 1., 1., 1.],\n",
      "        [1., 1., 1., 1.],\n",
      "        [1., 1., 1., 1.]], device='cuda:0')\n"
     ]
    }
   ],
   "source": [
    "a = torch.ones(4, 4, dtype=torch.float, device=device)\n",
    "print(a)"
   ]
  },
  {
   "cell_type": "markdown",
   "id": "7feaee31",
   "metadata": {},
   "source": [
    "### reshape tensor"
   ]
  },
  {
   "cell_type": "code",
   "execution_count": 32,
   "id": "a3dac074",
   "metadata": {},
   "outputs": [
    {
     "name": "stdout",
     "output_type": "stream",
     "text": [
      "torch.Size([4, 4])\n",
      "torch.Size([2, 8])\n",
      "torch.Size([2, 8])\n"
     ]
    }
   ],
   "source": [
    "a = torch.rand(4, 4, dtype=torch.float64, device=device)\n",
    "b = torch.reshape(a, (2, 8))\n",
    "c = a.view(2, 8)\n",
    "print(a.size())\n",
    "print(b.size())\n",
    "print(c.size())"
   ]
  },
  {
   "cell_type": "markdown",
   "id": "df23bd1d",
   "metadata": {},
   "source": [
    "### Add operation"
   ]
  },
  {
   "cell_type": "code",
   "execution_count": 88,
   "id": "d1e977e1",
   "metadata": {},
   "outputs": [
    {
     "name": "stdout",
     "output_type": "stream",
     "text": [
      "tensor([5, 7, 9], device='cuda:0')\n",
      "tensor([5, 7, 9], device='cuda:0')\n",
      "tensor([5, 7, 9], device='cuda:0')\n",
      "\n"
     ]
    }
   ],
   "source": [
    "a = torch.tensor([1, 2, 3], device=device)\n",
    "b = torch.tensor([4, 5, 6], device=device)\n",
    "\n",
    "# add\n",
    "c1 = torch.add(a, b)\n",
    "c2 = a + b\n",
    "c3 = a.add_(b)\n",
    "print(c1)\n",
    "print(c2)\n",
    "print(c3)\n",
    "print()"
   ]
  },
  {
   "cell_type": "markdown",
   "id": "6be74ccb",
   "metadata": {},
   "source": [
    "### Subtract operation"
   ]
  },
  {
   "cell_type": "code",
   "execution_count": 93,
   "id": "96b9881f",
   "metadata": {},
   "outputs": [
    {
     "name": "stdout",
     "output_type": "stream",
     "text": [
      "tensor([-3, -3, -3], device='cuda:0')\n",
      "tensor([-3, -3, -3], device='cuda:0')\n",
      "tensor([-3, -3, -3], device='cuda:0')\n",
      "\n"
     ]
    }
   ],
   "source": [
    "a = torch.tensor([1, 2, 3], device=device)\n",
    "b = torch.tensor([4, 5, 6], device=device)\n",
    "\n",
    "c4 = torch.subtract(a, b)\n",
    "c5 = a - b\n",
    "c6 = a.sub_(b)\n",
    "\n",
    "print(c4)\n",
    "print(c5)\n",
    "print(c6)\n",
    "print()"
   ]
  },
  {
   "cell_type": "markdown",
   "id": "10e5f56b",
   "metadata": {},
   "source": [
    "### Multiply operation"
   ]
  },
  {
   "cell_type": "code",
   "execution_count": 92,
   "id": "e10b3fa5",
   "metadata": {},
   "outputs": [
    {
     "name": "stdout",
     "output_type": "stream",
     "text": [
      "tensor([ 4, 10, 18], device='cuda:0')\n",
      "tensor([ 4, 10, 18], device='cuda:0')\n",
      "tensor([ 4, 10, 18], device='cuda:0')\n"
     ]
    }
   ],
   "source": [
    "a = torch.tensor([1, 2, 3], device=device)\n",
    "b = torch.tensor([4, 5, 6], device=device)\n",
    "\n",
    "c7 = torch.mul(a, b)\n",
    "c8 = a * b\n",
    "c9 = a.mul_(b)\n",
    "print(c7)\n",
    "print(c8)\n",
    "print(c9)\n"
   ]
  },
  {
   "cell_type": "markdown",
   "id": "a3d6e239",
   "metadata": {},
   "source": [
    "## Autograd"
   ]
  },
  {
   "cell_type": "markdown",
   "id": "fc7a2e75",
   "metadata": {},
   "source": [
    "## gradeint computation"
   ]
  },
  {
   "cell_type": "code",
   "execution_count": 97,
   "id": "3b2ed67c",
   "metadata": {},
   "outputs": [
    {
     "name": "stdout",
     "output_type": "stream",
     "text": [
      "tensor([-0.4384,  2.3224, -1.3642,  1.9052], requires_grad=True)\n",
      "tensor([1.5616, 4.3224, 0.6358, 3.9052], grad_fn=<AddBackward0>)\n",
      "tensor([ 4.8773, 37.3656,  0.8085, 30.5014], grad_fn=<MulBackward0>)\n",
      "tensor(18.3882, grad_fn=<MeanBackward0>)\n",
      "tensor([1.5616, 4.3224, 0.6358, 3.9052])\n",
      "tensor([-0.4384,  2.3224, -1.3642,  1.9052])\n"
     ]
    }
   ],
   "source": [
    "x = torch.randn(4, requires_grad=True)\n",
    "print(x)\n",
    "\n",
    "y = x + 2\n",
    "print(y)\n",
    "\n",
    "z = y * y * 2\n",
    "print(z)\n",
    "\n",
    "r = z.mean()\n",
    "print(r)\n",
    "\n",
    "r.backward() # dz/dx\n",
    "print(x.grad)\n",
    "\n"
   ]
  }
 ],
 "metadata": {
  "kernelspec": {
   "display_name": "Python 3 (ipykernel)",
   "language": "python",
   "name": "python3"
  },
  "language_info": {
   "codemirror_mode": {
    "name": "ipython",
    "version": 3
   },
   "file_extension": ".py",
   "mimetype": "text/x-python",
   "name": "python",
   "nbconvert_exporter": "python",
   "pygments_lexer": "ipython3",
   "version": "3.11.6"
  }
 },
 "nbformat": 4,
 "nbformat_minor": 5
}
