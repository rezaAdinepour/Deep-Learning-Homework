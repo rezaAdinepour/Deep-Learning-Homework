{
 "cells": [
  {
   "cell_type": "code",
   "execution_count": 1,
   "id": "b54e2c6a-faf6-4a1b-a688-67800154afe3",
   "metadata": {},
   "outputs": [],
   "source": [
    "import torch\n",
    "import numpy as np"
   ]
  },
  {
   "cell_type": "code",
   "execution_count": 3,
   "id": "fd2f42ab-ed34-422e-9122-92e2120f8b1b",
   "metadata": {},
   "outputs": [
    {
     "name": "stdout",
     "output_type": "stream",
     "text": [
      "cuda\n"
     ]
    }
   ],
   "source": [
    "# check GPU available\n",
    "device = torch.device(\"cuda\") if torch.cuda.is_available() else torch.device(\"cpu\")\n",
    "print(device)"
   ]
  },
  {
   "cell_type": "code",
   "execution_count": 5,
   "id": "818560b5-4c72-46cb-a792-bf001cc6c4df",
   "metadata": {},
   "outputs": [
    {
     "name": "stdout",
     "output_type": "stream",
     "text": [
      "tensor([1., 2., 3., 4.], device='cuda:0', dtype=torch.float64)\n",
      "tensor([4., 5., 6., 7.], device='cuda:0', dtype=torch.float64)\n"
     ]
    }
   ],
   "source": [
    "# create tensor with custom value\n",
    "a = torch.tensor([1, 2, 3, 4], dtype=torch.float64, device=device)\n",
    "b = torch.tensor([4, 5, 6, 7], dtype=torch.float64, device=device)\n",
    "print(a)\n",
    "print(b)"
   ]
  },
  {
   "cell_type": "code",
   "execution_count": null,
   "id": "e6944668",
   "metadata": {},
   "outputs": [],
   "source": []
  }
 ],
 "metadata": {
  "kernelspec": {
   "display_name": "Python 3 (ipykernel)",
   "language": "python",
   "name": "python3"
  },
  "language_info": {
   "codemirror_mode": {
    "name": "ipython",
    "version": 3
   },
   "file_extension": ".py",
   "mimetype": "text/x-python",
   "name": "python",
   "nbconvert_exporter": "python",
   "pygments_lexer": "ipython3",
   "version": "3.11.6"
  }
 },
 "nbformat": 4,
 "nbformat_minor": 5
}
